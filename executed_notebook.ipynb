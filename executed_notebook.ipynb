{
 "cells": [
  {
   "cell_type": "code",
   "execution_count": 1,
   "id": "f988c74a",
   "metadata": {
    "execution": {
     "iopub.execute_input": "2025-01-19T23:10:10.929014Z",
     "iopub.status.busy": "2025-01-19T23:10:10.928621Z",
     "iopub.status.idle": "2025-01-19T23:10:10.934799Z",
     "shell.execute_reply": "2025-01-19T23:10:10.934193Z"
    }
   },
   "outputs": [
    {
     "name": "stdout",
     "output_type": "stream",
     "text": [
      "Hello, nbformat!\n"
     ]
    }
   ],
   "source": [
    "print('Hello, nbformat!')"
   ]
  }
 ],
 "metadata": {
  "language_info": {
   "codemirror_mode": {
    "name": "ipython",
    "version": 3
   },
   "file_extension": ".py",
   "mimetype": "text/x-python",
   "name": "python",
   "nbconvert_exporter": "python",
   "pygments_lexer": "ipython3",
   "version": "3.12.7"
  }
 },
 "nbformat": 4,
 "nbformat_minor": 5
}
