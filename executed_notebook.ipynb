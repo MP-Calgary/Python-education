{
 "cells": [
  {
   "cell_type": "code",
   "execution_count": 1,
   "id": "f988c74a",
   "metadata": {
    "execution": {
     "iopub.execute_input": "2025-01-18T18:41:50.171341Z",
     "iopub.status.busy": "2025-01-18T18:41:50.171091Z",
     "iopub.status.idle": "2025-01-18T18:41:50.176062Z",
     "shell.execute_reply": "2025-01-18T18:41:50.175554Z"
    }
   },
   "outputs": [
    {
     "name": "stdout",
     "output_type": "stream",
     "text": [
      "Hello, nbformat!\n"
     ]
    }
   ],
   "source": [
    "print('Hello, nbformat!')"
   ]
  }
 ],
 "metadata": {
  "language_info": {
   "codemirror_mode": {
    "name": "ipython",
    "version": 3
   },
   "file_extension": ".py",
   "mimetype": "text/x-python",
   "name": "python",
   "nbconvert_exporter": "python",
   "pygments_lexer": "ipython3",
   "version": "3.12.7"
  }
 },
 "nbformat": 4,
 "nbformat_minor": 5
}
