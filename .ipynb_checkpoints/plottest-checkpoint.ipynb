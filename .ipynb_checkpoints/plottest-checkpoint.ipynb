{
 "cells": [
  {
   "cell_type": "code",
   "execution_count": null,
   "id": "fc51c4a6-2a14-457a-ac03-080e765f253a",
   "metadata": {},
   "outputs": [],
   "source": [
    "from lets_plot import *\n",
    "import pandas as pd\n",
    "\n",
    "# Initialize Lets-Plot for Jupyter\n",
    "LetsPlot.setup_jupyter()\n",
    "\n",
    "# Create sample data\n",
    "data = {'x': [1, 2, 3, 4, 5], 'y': [3, 7, 8, 5, 9]}\n",
    "df = pd.DataFrame(data)\n",
    "\n",
    "# Create and display a scatter plot\n",
    "plot = ggplot(df, aes('x', 'y')) + geom_point(color='red', size=5) + ggtitle(\"Scatter Plot Example\")\n",
    "\n",
    "# Display the plot inline (only necessary if it does not automatically show)\n",
    "plot.show()"
   ]
  }
 ],
 "metadata": {
  "kernelspec": {
   "display_name": "Python 3 (ipykernel)",
   "language": "python",
   "name": "python3"
  },
  "language_info": {
   "codemirror_mode": {
    "name": "ipython",
    "version": 3
   },
   "file_extension": ".py",
   "mimetype": "text/x-python",
   "name": "python",
   "nbconvert_exporter": "python",
   "pygments_lexer": "ipython3",
   "version": "3.12.8"
  }
 },
 "nbformat": 4,
 "nbformat_minor": 5
}
